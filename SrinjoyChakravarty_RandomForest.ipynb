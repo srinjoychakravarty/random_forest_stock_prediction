{
 "cells": [
  {
   "cell_type": "markdown",
   "metadata": {},
   "source": [
    "# 001086186 Srinjoy Chakravarty"
   ]
  },
  {
   "cell_type": "markdown",
   "metadata": {},
   "source": [
    "# RANDOM FOREST REGRESSION"
   ]
  },
  {
   "cell_type": "code",
   "execution_count": 1,
   "metadata": {},
   "outputs": [],
   "source": [
    "import matplotlib.pyplot as plt\n",
    "import numpy as np\n",
    "import pandas as pd\n",
    "\n",
    "#from sklearn.grid_search import GridSearchCV\n",
    "from sklearn.model_selection import GridSearchCV\n",
    "\n",
    "# Import the model we are using\n",
    "from sklearn.ensemble import RandomForestRegressor\n",
    "\n",
    "\n",
    "# Using Skicit-learn to split data into training and testing sets\n",
    "from sklearn.model_selection import train_test_split\n",
    "\n"
   ]
  },
  {
   "cell_type": "markdown",
   "metadata": {},
   "source": [
    "TOKYO STOCK PREDICTION DATASET"
   ]
  },
  {
   "cell_type": "code",
   "execution_count": 2,
   "metadata": {},
   "outputs": [
    {
     "name": "stdout",
     "output_type": "stream",
     "text": [
      "    Open   High    Low  Close  Volume\n",
      "0  42120  42330  41700  41830  610000\n",
      "1  43000  43220  42540  42660  448400\n",
      "2  43940  43970  43270  43270  339900\n",
      "3  43140  43700  43140  43620  400100\n",
      "4  43310  43660  43090  43340  358200\n"
     ]
    }
   ],
   "source": [
    "\n",
    "df = pd.read_csv('UniqloStock1.csv')\n",
    "#print(df)\n",
    "\n",
    "df=df.drop(\"Date\", axis=1)\n",
    "\n",
    "data_top = df.head()\n",
    "print(data_top)\n"
   ]
  },
  {
   "cell_type": "markdown",
   "metadata": {},
   "source": [
    "This is the **data**! \n",
    "We are now trying to predict the 'Close' Value based on all attributes"
   ]
  },
  {
   "cell_type": "code",
   "execution_count": 3,
   "metadata": {
    "scrolled": true
   },
   "outputs": [
    {
     "name": "stdout",
     "output_type": "stream",
     "text": [
      "    High    Low   Open  Volume\n",
      "0  42330  41700  42120  610000\n",
      "1  43220  42540  43000  448400\n",
      "2  43970  43270  43940  339900\n",
      "3  43700  43140  43140  400100\n",
      "4  43660  43090  43310  358200\n"
     ]
    }
   ],
   "source": [
    "\n",
    "feature_names_list = sorted(list(df.columns.values.tolist()))\n",
    "\n",
    "\n",
    "target = df['Close']\n",
    "feature_names_list.remove('Close')\n",
    "X = pd.DataFrame(df, columns=feature_names_list)\n",
    "Y = pd.Series(target)\n",
    "\n",
    "\n",
    "# df.drop(columns=['Wage'])\n",
    "# print(X)\n",
    "# print(Y)\n",
    "\n",
    "print(X.head())\n",
    "\n",
    "\n",
    "# %matplotlib inline\n"
   ]
  },
  {
   "cell_type": "markdown",
   "metadata": {},
   "source": [
    "These are the **labels**: They describe what the stock price was over a period."
   ]
  },
  {
   "cell_type": "code",
   "execution_count": 4,
   "metadata": {},
   "outputs": [
    {
     "data": {
      "text/plain": [
       "0       41830\n",
       "1       42660\n",
       "2       43270\n",
       "3       43620\n",
       "4       43340\n",
       "        ...  \n",
       "1221    14590\n",
       "1222    14390\n",
       "1223    13850\n",
       "1224    13800\n",
       "1225    13720\n",
       "Name: Close, Length: 1226, dtype: int64"
      ]
     },
     "execution_count": 4,
     "metadata": {},
     "output_type": "execute_result"
    }
   ],
   "source": [
    "#Close Attributes\n",
    "Y"
   ]
  },
  {
   "cell_type": "markdown",
   "metadata": {},
   "source": []
  },
  {
   "cell_type": "code",
   "execution_count": 9,
   "metadata": {},
   "outputs": [],
   "source": [
    "from sklearn.ensemble import RandomForestRegressor\n",
    "#from sklearn.grid_search import GridSearchCV"
   ]
  },
  {
   "cell_type": "markdown",
   "metadata": {},
   "source": [
    "Let's learn from our dataset."
   ]
  },
  {
   "cell_type": "code",
   "execution_count": 12,
   "metadata": {},
   "outputs": [
    {
     "name": "stdout",
     "output_type": "stream",
     "text": [
      "CPU times: user 122 ms, sys: 4.15 ms, total: 127 ms\n",
      "Wall time: 865 ms\n"
     ]
    },
    {
     "data": {
      "text/plain": [
       "GridSearchCV(cv=5, error_score='raise-deprecating',\n",
       "             estimator=RandomForestRegressor(bootstrap=True, criterion='mse',\n",
       "                                             max_depth=None,\n",
       "                                             max_features='auto',\n",
       "                                             max_leaf_nodes=None,\n",
       "                                             min_impurity_decrease=0.0,\n",
       "                                             min_impurity_split=None,\n",
       "                                             min_samples_leaf=1,\n",
       "                                             min_samples_split=2,\n",
       "                                             min_weight_fraction_leaf=0.0,\n",
       "                                             n_estimators=10, n_jobs=None,\n",
       "                                             oob_score=False, random_state=None,\n",
       "                                             verbose=0, warm_start=False),\n",
       "             iid=False, n_jobs=-1,\n",
       "             param_grid={'max_depth': [2, 4], 'max_features': array([2, 3, 4]),\n",
       "                         'min_samples_split': [5, 10, 15, 20]},\n",
       "             pre_dispatch='2*n_jobs', refit=True, return_train_score=False,\n",
       "             scoring=None, verbose=0)"
      ]
     },
     "execution_count": 12,
     "metadata": {},
     "output_type": "execute_result"
    }
   ],
   "source": [
    "%%time\n",
    "\n",
    "param_grid = dict(\n",
    "    max_features=np.arange(2, 5),\n",
    "    max_depth=[2, 4],\n",
    "    min_samples_split=[5, 10, 15, 20],\n",
    ")\n",
    "rfc = RandomForestRegressor(n_estimators=10)\n",
    "gs = GridSearchCV(rfc, param_grid, cv=5, n_jobs=-1, iid=False)\n",
    "gs.fit(X.values, Y.values)"
   ]
  },
  {
   "cell_type": "code",
   "execution_count": 14,
   "metadata": {},
   "outputs": [
    {
     "name": "stdout",
     "output_type": "stream",
     "text": [
      "['mean_fit_time', 'std_fit_time', 'mean_score_time', 'std_score_time', 'param_max_depth', 'param_max_features', 'param_min_samples_split', 'params', 'split0_test_score', 'split1_test_score']\n"
     ]
    }
   ],
   "source": [
    "scores = gs.cv_results_\n",
    "# print(scores)\n",
    "# print(type(scores))\n",
    "scores = list(scores)\n",
    "print(scores[:10])"
   ]
  },
  {
   "cell_type": "markdown",
   "metadata": {},
   "source": [
    "These are the parameters that investors ought to be paying attention to in order to predict stock price:"
   ]
  },
  {
   "cell_type": "code",
   "execution_count": 547,
   "metadata": {},
   "outputs": [
    {
     "data": {
      "text/plain": [
       "<matplotlib.axes._subplots.AxesSubplot at 0x2755f417ba8>"
      ]
     },
     "execution_count": 547,
     "metadata": {},
     "output_type": "execute_result"
    },
    {
     "data": {
      "image/png": "[encoded data removed]",
      "text/plain": [
       "<Figure size 432x288 with 1 Axes>"
      ]
     },
     "metadata": {
      "needs_background": "light"
     },
     "output_type": "display_data"
    }
   ],
   "source": [
    "pd.Series(gs.best_estimator_.feature_importances_,\n",
    "          index=X.columns).sort_values().plot(kind='barh')"
   ]
  },
  {
   "cell_type": "markdown",
   "metadata": {},
   "source": [
    "Price indicated by the 'Close' attribute is most dependent on Low > High > Open > Volume"
   ]
  },
  {
   "cell_type": "markdown",
   "metadata": {},
   "source": [
    "### RUN HERE FOR SIMPLE STANDALONE VERSION\n"
   ]
  },
  {
   "cell_type": "markdown",
   "metadata": {},
   "source": [
    "Splitting the data into training dataset of 20%"
   ]
  },
  {
   "cell_type": "code",
   "execution_count": 15,
   "metadata": {},
   "outputs": [],
   "source": [
    "# Using Skicit-learn to split data into training and testing sets\n",
    "from sklearn.model_selection import train_test_split\n",
    "\n",
    "# Split the data into training and testing sets\n",
    "train_features, test_features, train_labels, test_labels = train_test_split(X.values, Y.values, test_size = 0.2,\n",
    "                                                                           random_state = 42)\n"
   ]
  },
  {
   "cell_type": "code",
   "execution_count": 17,
   "metadata": {},
   "outputs": [
    {
     "data": {
      "text/plain": [
       "RandomForestRegressor(bootstrap=True, criterion='mse', max_depth=None,\n",
       "                      max_features='auto', max_leaf_nodes=None,\n",
       "                      min_impurity_decrease=0.0, min_impurity_split=None,\n",
       "                      min_samples_leaf=1, min_samples_split=2,\n",
       "                      min_weight_fraction_leaf=0.0, n_estimators=10,\n",
       "                      n_jobs=None, oob_score=False, random_state=42, verbose=0,\n",
       "                      warm_start=False)"
      ]
     },
     "execution_count": 17,
     "metadata": {},
     "output_type": "execute_result"
    }
   ],
   "source": [
    "# Instantiate model\n",
    "rf = RandomForestRegressor(n_estimators= 10, random_state=42)\n",
    "\n",
    "# Train the model on training data\n",
    "rf.fit(train_features, train_labels)"
   ]
  },
  {
   "cell_type": "code",
   "execution_count": 18,
   "metadata": {},
   "outputs": [
    {
     "name": "stdout",
     "output_type": "stream",
     "text": [
      "Mean Absolute Error: 0.27\n"
     ]
    }
   ],
   "source": [
    "# Use the forest's predict method on the test data\n",
    "predictions = rf.predict(test_features)\n",
    "\n",
    "# Calculate the absolute errors\n",
    "errors = abs(predictions - test_labels)\n",
    "\n",
    "\n",
    "# Print out the mean absolute error (mae)\n",
    "print('Mean Absolute Error:', round(np.mean(errors)/1000, 2))"
   ]
  },
  {
   "cell_type": "code",
   "execution_count": 19,
   "metadata": {},
   "outputs": [
    {
     "name": "stdout",
     "output_type": "stream",
     "text": [
      "['High', 'Low', 'Open', 'Volume']\n"
     ]
    }
   ],
   "source": [
    "# Saving feature names for later use\n",
    "feature_list = list(X.columns)\n",
    "print(feature_list)"
   ]
  },
  {
   "cell_type": "code",
   "execution_count": 20,
   "metadata": {},
   "outputs": [
    {
     "name": "stdout",
     "output_type": "stream",
     "text": [
      "Variable: High                 Importance: 0.59\n",
      "Variable: Low                  Importance: 0.4\n",
      "Variable: Open                 Importance: 0.01\n",
      "Variable: Volume               Importance: 0.0\n"
     ]
    }
   ],
   "source": [
    "# Get numerical feature importances\n",
    "importances = list(rf.feature_importances_)\n",
    "\n",
    "# List of tuples with variable and importance\n",
    "feature_importances = [(feature, round(importance, 2)) for feature, importance in zip(feature_list, importances)]\n",
    "\n",
    "# Sort the feature importances by most important first\n",
    "feature_importances = sorted(feature_importances, key = lambda x: x[1], reverse = True)\n",
    "\n",
    "# Print out the feature and importances\n",
    "[print('Variable: {:20} Importance: {}'.format(*pair)) for pair in feature_importances];"
   ]
  },
  {
   "cell_type": "markdown",
   "metadata": {},
   "source": [
    "# PREDICTION MODEL"
   ]
  },
  {
   "cell_type": "code",
   "execution_count": 21,
   "metadata": {},
   "outputs": [],
   "source": [
    "from sklearn.ensemble import RandomForestRegressor\n",
    "from sklearn import metrics\n",
    "from sklearn.model_selection import train_test_split"
   ]
  },
  {
   "cell_type": "code",
   "execution_count": 22,
   "metadata": {},
   "outputs": [
    {
     "data": {
      "text/html": [
       "<div>\n",
       "<style scoped>\n",
       "    .dataframe tbody tr th:only-of-type {\n",
       "        vertical-align: middle;\n",
       "    }\n",
       "\n",
       "    .dataframe tbody tr th {\n",
       "        vertical-align: top;\n",
       "    }\n",
       "\n",
       "    .dataframe thead th {\n",
       "        text-align: right;\n",
       "    }\n",
       "</style>\n",
       "<table border=\"1\" class=\"dataframe\">\n",
       "  <thead>\n",
       "    <tr style=\"text-align: right;\">\n",
       "      <th></th>\n",
       "      <th>Close</th>\n",
       "      <th>Close</th>\n",
       "    </tr>\n",
       "  </thead>\n",
       "  <tbody>\n",
       "    <tr>\n",
       "      <td>0</td>\n",
       "      <td>41830</td>\n",
       "      <td>42660.0</td>\n",
       "    </tr>\n",
       "    <tr>\n",
       "      <td>1</td>\n",
       "      <td>42660</td>\n",
       "      <td>43270.0</td>\n",
       "    </tr>\n",
       "    <tr>\n",
       "      <td>2</td>\n",
       "      <td>43270</td>\n",
       "      <td>43620.0</td>\n",
       "    </tr>\n",
       "    <tr>\n",
       "      <td>3</td>\n",
       "      <td>43620</td>\n",
       "      <td>43340.0</td>\n",
       "    </tr>\n",
       "    <tr>\n",
       "      <td>4</td>\n",
       "      <td>43340</td>\n",
       "      <td>43480.0</td>\n",
       "    </tr>\n",
       "    <tr>\n",
       "      <td>...</td>\n",
       "      <td>...</td>\n",
       "      <td>...</td>\n",
       "    </tr>\n",
       "    <tr>\n",
       "      <td>1221</td>\n",
       "      <td>14590</td>\n",
       "      <td>14390.0</td>\n",
       "    </tr>\n",
       "    <tr>\n",
       "      <td>1222</td>\n",
       "      <td>14390</td>\n",
       "      <td>13850.0</td>\n",
       "    </tr>\n",
       "    <tr>\n",
       "      <td>1223</td>\n",
       "      <td>13850</td>\n",
       "      <td>13800.0</td>\n",
       "    </tr>\n",
       "    <tr>\n",
       "      <td>1224</td>\n",
       "      <td>13800</td>\n",
       "      <td>13720.0</td>\n",
       "    </tr>\n",
       "    <tr>\n",
       "      <td>1225</td>\n",
       "      <td>13720</td>\n",
       "      <td>NaN</td>\n",
       "    </tr>\n",
       "  </tbody>\n",
       "</table>\n",
       "<p>1226 rows × 2 columns</p>\n",
       "</div>"
      ],
      "text/plain": [
       "      Close    Close\n",
       "0     41830  42660.0\n",
       "1     42660  43270.0\n",
       "2     43270  43620.0\n",
       "3     43620  43340.0\n",
       "4     43340  43480.0\n",
       "...     ...      ...\n",
       "1221  14590  14390.0\n",
       "1222  14390  13850.0\n",
       "1223  13850  13800.0\n",
       "1224  13800  13720.0\n",
       "1225  13720      NaN\n",
       "\n",
       "[1226 rows x 2 columns]"
      ]
     },
     "execution_count": 22,
     "metadata": {},
     "output_type": "execute_result"
    }
   ],
   "source": [
    "pd.concat([df.Close, df.Close.shift(-1)], axis=1)"
   ]
  },
  {
   "cell_type": "markdown",
   "metadata": {},
   "source": [
    "We define X as all the columns and then we take the TRANSPOSE of X"
   ]
  },
  {
   "cell_type": "code",
   "execution_count": 23,
   "metadata": {},
   "outputs": [],
   "source": [
    "X = df[[x for x in df.columns]]"
   ]
  },
  {
   "cell_type": "code",
   "execution_count": 24,
   "metadata": {},
   "outputs": [
    {
     "data": {
      "text/html": [
       "<div>\n",
       "<style scoped>\n",
       "    .dataframe tbody tr th:only-of-type {\n",
       "        vertical-align: middle;\n",
       "    }\n",
       "\n",
       "    .dataframe tbody tr th {\n",
       "        vertical-align: top;\n",
       "    }\n",
       "\n",
       "    .dataframe thead th {\n",
       "        text-align: right;\n",
       "    }\n",
       "</style>\n",
       "<table border=\"1\" class=\"dataframe\">\n",
       "  <thead>\n",
       "    <tr style=\"text-align: right;\">\n",
       "      <th></th>\n",
       "      <th>0</th>\n",
       "      <th>1</th>\n",
       "      <th>2</th>\n",
       "      <th>3</th>\n",
       "      <th>4</th>\n",
       "      <th>5</th>\n",
       "      <th>6</th>\n",
       "      <th>7</th>\n",
       "      <th>8</th>\n",
       "      <th>9</th>\n",
       "      <th>...</th>\n",
       "      <th>1148</th>\n",
       "      <th>1149</th>\n",
       "      <th>1150</th>\n",
       "      <th>1151</th>\n",
       "      <th>1152</th>\n",
       "      <th>1153</th>\n",
       "      <th>1154</th>\n",
       "      <th>1155</th>\n",
       "      <th>1156</th>\n",
       "      <th>1157</th>\n",
       "    </tr>\n",
       "  </thead>\n",
       "  <tbody>\n",
       "    <tr>\n",
       "      <td>Open</td>\n",
       "      <td>42120</td>\n",
       "      <td>43000</td>\n",
       "      <td>43940</td>\n",
       "      <td>43140</td>\n",
       "      <td>43310</td>\n",
       "      <td>43660</td>\n",
       "      <td>43900</td>\n",
       "      <td>42910</td>\n",
       "      <td>42790</td>\n",
       "      <td>43350</td>\n",
       "      <td>...</td>\n",
       "      <td>17880</td>\n",
       "      <td>18460</td>\n",
       "      <td>18540</td>\n",
       "      <td>18620</td>\n",
       "      <td>18930</td>\n",
       "      <td>18520</td>\n",
       "      <td>18900</td>\n",
       "      <td>18270</td>\n",
       "      <td>17320</td>\n",
       "      <td>17340</td>\n",
       "    </tr>\n",
       "    <tr>\n",
       "      <td>High</td>\n",
       "      <td>42330</td>\n",
       "      <td>43220</td>\n",
       "      <td>43970</td>\n",
       "      <td>43700</td>\n",
       "      <td>43660</td>\n",
       "      <td>43840</td>\n",
       "      <td>44370</td>\n",
       "      <td>43630</td>\n",
       "      <td>43150</td>\n",
       "      <td>43550</td>\n",
       "      <td>...</td>\n",
       "      <td>18030</td>\n",
       "      <td>18480</td>\n",
       "      <td>18670</td>\n",
       "      <td>18750</td>\n",
       "      <td>18950</td>\n",
       "      <td>18760</td>\n",
       "      <td>18900</td>\n",
       "      <td>19020</td>\n",
       "      <td>17530</td>\n",
       "      <td>17420</td>\n",
       "    </tr>\n",
       "    <tr>\n",
       "      <td>Low</td>\n",
       "      <td>41700</td>\n",
       "      <td>42540</td>\n",
       "      <td>43270</td>\n",
       "      <td>43140</td>\n",
       "      <td>43090</td>\n",
       "      <td>43190</td>\n",
       "      <td>43610</td>\n",
       "      <td>42860</td>\n",
       "      <td>42740</td>\n",
       "      <td>42810</td>\n",
       "      <td>...</td>\n",
       "      <td>17630</td>\n",
       "      <td>17930</td>\n",
       "      <td>18500</td>\n",
       "      <td>18540</td>\n",
       "      <td>18570</td>\n",
       "      <td>18310</td>\n",
       "      <td>18540</td>\n",
       "      <td>18240</td>\n",
       "      <td>17230</td>\n",
       "      <td>17170</td>\n",
       "    </tr>\n",
       "    <tr>\n",
       "      <td>Close</td>\n",
       "      <td>41830</td>\n",
       "      <td>42660</td>\n",
       "      <td>43270</td>\n",
       "      <td>43620</td>\n",
       "      <td>43340</td>\n",
       "      <td>43480</td>\n",
       "      <td>44000</td>\n",
       "      <td>43620</td>\n",
       "      <td>43130</td>\n",
       "      <td>43130</td>\n",
       "      <td>...</td>\n",
       "      <td>17850</td>\n",
       "      <td>18060</td>\n",
       "      <td>18590</td>\n",
       "      <td>18690</td>\n",
       "      <td>18860</td>\n",
       "      <td>18600</td>\n",
       "      <td>18690</td>\n",
       "      <td>18970</td>\n",
       "      <td>17470</td>\n",
       "      <td>17210</td>\n",
       "    </tr>\n",
       "    <tr>\n",
       "      <td>Volume</td>\n",
       "      <td>610000</td>\n",
       "      <td>448400</td>\n",
       "      <td>339900</td>\n",
       "      <td>400100</td>\n",
       "      <td>358200</td>\n",
       "      <td>381600</td>\n",
       "      <td>658900</td>\n",
       "      <td>499400</td>\n",
       "      <td>358700</td>\n",
       "      <td>542000</td>\n",
       "      <td>...</td>\n",
       "      <td>671600</td>\n",
       "      <td>784300</td>\n",
       "      <td>485100</td>\n",
       "      <td>568800</td>\n",
       "      <td>541800</td>\n",
       "      <td>626000</td>\n",
       "      <td>768500</td>\n",
       "      <td>3616500</td>\n",
       "      <td>532700</td>\n",
       "      <td>662500</td>\n",
       "    </tr>\n",
       "  </tbody>\n",
       "</table>\n",
       "<p>5 rows × 1158 columns</p>\n",
       "</div>"
      ],
      "text/plain": [
       "          0       1       2       3       4       5       6       7     \\\n",
       "Open     42120   43000   43940   43140   43310   43660   43900   42910   \n",
       "High     42330   43220   43970   43700   43660   43840   44370   43630   \n",
       "Low      41700   42540   43270   43140   43090   43190   43610   42860   \n",
       "Close    41830   42660   43270   43620   43340   43480   44000   43620   \n",
       "Volume  610000  448400  339900  400100  358200  381600  658900  499400   \n",
       "\n",
       "          8       9     ...    1148    1149    1150    1151    1152    1153  \\\n",
       "Open     42790   43350  ...   17880   18460   18540   18620   18930   18520   \n",
       "High     43150   43550  ...   18030   18480   18670   18750   18950   18760   \n",
       "Low      42740   42810  ...   17630   17930   18500   18540   18570   18310   \n",
       "Close    43130   43130  ...   17850   18060   18590   18690   18860   18600   \n",
       "Volume  358700  542000  ...  671600  784300  485100  568800  541800  626000   \n",
       "\n",
       "          1154     1155    1156    1157  \n",
       "Open     18900    18270   17320   17340  \n",
       "High     18900    19020   17530   17420  \n",
       "Low      18540    18240   17230   17170  \n",
       "Close    18690    18970   17470   17210  \n",
       "Volume  768500  3616500  532700  662500  \n",
       "\n",
       "[5 rows x 1158 columns]"
      ]
     },
     "execution_count": 24,
     "metadata": {},
     "output_type": "execute_result"
    }
   ],
   "source": [
    "X = X.drop(X.index[1158:1226])\n",
    "X.T"
   ]
  },
  {
   "cell_type": "markdown",
   "metadata": {},
   "source": [
    "We will try to predict the last 68 rows in the dataset\n",
    "These modifications in the dataset allow us to predict accordingly"
   ]
  },
  {
   "cell_type": "code",
   "execution_count": 25,
   "metadata": {},
   "outputs": [],
   "source": [
    "y = df.Close.shift(-68).dropna()"
   ]
  },
  {
   "cell_type": "code",
   "execution_count": 26,
   "metadata": {},
   "outputs": [],
   "source": [
    "X_train, X_test, y_train, y_test = train_test_split(X, y, random_state=42)"
   ]
  },
  {
   "cell_type": "code",
   "execution_count": 28,
   "metadata": {},
   "outputs": [
    {
     "data": {
      "text/plain": [
       "RandomForestRegressor(bootstrap=True, criterion='mse', max_depth=None,\n",
       "                      max_features='auto', max_leaf_nodes=None,\n",
       "                      min_impurity_decrease=0.0, min_impurity_split=None,\n",
       "                      min_samples_leaf=1, min_samples_split=2,\n",
       "                      min_weight_fraction_leaf=0.0, n_estimators=100,\n",
       "                      n_jobs=None, oob_score=False, random_state=None,\n",
       "                      verbose=0, warm_start=False)"
      ]
     },
     "execution_count": 28,
     "metadata": {},
     "output_type": "execute_result"
    }
   ],
   "source": [
    "rf_model = RandomForestRegressor(n_estimators=100)\n",
    "rf_model.fit(X_train, y_train)"
   ]
  },
  {
   "cell_type": "code",
   "execution_count": 29,
   "metadata": {},
   "outputs": [
    {
     "data": {
      "text/plain": [
       "0.6887831832893627"
      ]
     },
     "execution_count": 29,
     "metadata": {},
     "output_type": "execute_result"
    }
   ],
   "source": [
    "rf_model.score(X_test, y_test)"
   ]
  },
  {
   "cell_type": "markdown",
   "metadata": {},
   "source": [
    "We are getting an accuracy of ~70% while predicting for almost 70 days\n",
    "We then display the original value and the predicted Values"
   ]
  },
  {
   "cell_type": "code",
   "execution_count": 31,
   "metadata": {},
   "outputs": [
    {
     "data": {
      "text/html": [
       "<div>\n",
       "<style scoped>\n",
       "    .dataframe tbody tr th:only-of-type {\n",
       "        vertical-align: middle;\n",
       "    }\n",
       "\n",
       "    .dataframe tbody tr th {\n",
       "        vertical-align: top;\n",
       "    }\n",
       "\n",
       "    .dataframe thead th {\n",
       "        text-align: right;\n",
       "    }\n",
       "</style>\n",
       "<table border=\"1\" class=\"dataframe\">\n",
       "  <thead>\n",
       "    <tr style=\"text-align: right;\">\n",
       "      <th></th>\n",
       "      <th>0</th>\n",
       "      <th>Close</th>\n",
       "    </tr>\n",
       "  </thead>\n",
       "  <tbody>\n",
       "    <tr>\n",
       "      <td>0</td>\n",
       "      <td>17589.80</td>\n",
       "      <td>16760.0</td>\n",
       "    </tr>\n",
       "    <tr>\n",
       "      <td>1</td>\n",
       "      <td>51226.35</td>\n",
       "      <td>53860.0</td>\n",
       "    </tr>\n",
       "    <tr>\n",
       "      <td>2</td>\n",
       "      <td>32698.40</td>\n",
       "      <td>26815.0</td>\n",
       "    </tr>\n",
       "    <tr>\n",
       "      <td>3</td>\n",
       "      <td>39990.65</td>\n",
       "      <td>56610.0</td>\n",
       "    </tr>\n",
       "    <tr>\n",
       "      <td>4</td>\n",
       "      <td>30855.70</td>\n",
       "      <td>31100.0</td>\n",
       "    </tr>\n",
       "    <tr>\n",
       "      <td>...</td>\n",
       "      <td>...</td>\n",
       "      <td>...</td>\n",
       "    </tr>\n",
       "    <tr>\n",
       "      <td>285</td>\n",
       "      <td>34869.20</td>\n",
       "      <td>33430.0</td>\n",
       "    </tr>\n",
       "    <tr>\n",
       "      <td>286</td>\n",
       "      <td>17758.30</td>\n",
       "      <td>16850.0</td>\n",
       "    </tr>\n",
       "    <tr>\n",
       "      <td>287</td>\n",
       "      <td>31352.10</td>\n",
       "      <td>22910.0</td>\n",
       "    </tr>\n",
       "    <tr>\n",
       "      <td>288</td>\n",
       "      <td>18014.70</td>\n",
       "      <td>17570.0</td>\n",
       "    </tr>\n",
       "    <tr>\n",
       "      <td>289</td>\n",
       "      <td>35258.50</td>\n",
       "      <td>34750.0</td>\n",
       "    </tr>\n",
       "  </tbody>\n",
       "</table>\n",
       "<p>290 rows × 2 columns</p>\n",
       "</div>"
      ],
      "text/plain": [
       "            0    Close\n",
       "0    17589.80  16760.0\n",
       "1    51226.35  53860.0\n",
       "2    32698.40  26815.0\n",
       "3    39990.65  56610.0\n",
       "4    30855.70  31100.0\n",
       "..        ...      ...\n",
       "285  34869.20  33430.0\n",
       "286  17758.30  16850.0\n",
       "287  31352.10  22910.0\n",
       "288  18014.70  17570.0\n",
       "289  35258.50  34750.0\n",
       "\n",
       "[290 rows x 2 columns]"
      ]
     },
     "execution_count": 31,
     "metadata": {},
     "output_type": "execute_result"
    }
   ],
   "source": [
    "pd.concat([pd.Series(rf_model.predict(X_test)), y_test.reset_index(\n",
    "drop=True)], axis=1)"
   ]
  },
  {
   "cell_type": "code",
   "execution_count": null,
   "metadata": {},
   "outputs": [],
   "source": []
  }
 ],
 "metadata": {
  "kernelspec": {
   "display_name": "Python 3",
   "language": "python",
   "name": "python3"
  },
  "language_info": {
   "codemirror_mode": {
    "name": "ipython",
    "version": 3
   },
   "file_extension": ".py",
   "mimetype": "text/x-python",
   "name": "python",
   "nbconvert_exporter": "python",
   "pygments_lexer": "ipython3",
   "version": "3.6.9"
  }
 },
 "nbformat": 4,
 "nbformat_minor": 2
}
